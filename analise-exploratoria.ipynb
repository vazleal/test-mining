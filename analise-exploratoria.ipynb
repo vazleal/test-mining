    "        return pd.read_csv('./datas/' + filename)\n",
